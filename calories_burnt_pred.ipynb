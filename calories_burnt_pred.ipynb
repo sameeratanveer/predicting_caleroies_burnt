{
 "cells": [
  {
   "cell_type": "code",
   "execution_count": 2,
   "id": "67fab7aa-f45a-42ba-8d39-f167aef94f27",
   "metadata": {},
   "outputs": [],
   "source": [
    "# Import the dependencies : \n",
    "import pandas as pd \n",
    "import numpy as np \n",
    "import matplotlib.pyplot as plt \n",
    "import seaborn as sns "
   ]
  },
  {
   "cell_type": "code",
   "execution_count": 4,
   "id": "89130180-d2b4-4a17-bc3a-2d80bc7c1adb",
   "metadata": {},
   "outputs": [],
   "source": [
    "# Load the dataset : \n",
    "df = pd.read_csv('dataset.csv')"
   ]
  },
  {
   "cell_type": "code",
   "execution_count": 6,
   "id": "135d4fc4-b7b4-460a-bca2-d2292d106a02",
   "metadata": {},
   "outputs": [
    {
     "data": {
      "text/html": [
       "<div>\n",
       "<style scoped>\n",
       "    .dataframe tbody tr th:only-of-type {\n",
       "        vertical-align: middle;\n",
       "    }\n",
       "\n",
       "    .dataframe tbody tr th {\n",
       "        vertical-align: top;\n",
       "    }\n",
       "\n",
       "    .dataframe thead th {\n",
       "        text-align: right;\n",
       "    }\n",
       "</style>\n",
       "<table border=\"1\" class=\"dataframe\">\n",
       "  <thead>\n",
       "    <tr style=\"text-align: right;\">\n",
       "      <th></th>\n",
       "      <th>User_ID</th>\n",
       "      <th>Gender</th>\n",
       "      <th>Age</th>\n",
       "      <th>Height</th>\n",
       "      <th>Weight</th>\n",
       "      <th>Duration</th>\n",
       "      <th>Heart_Rate</th>\n",
       "      <th>Body_Temp</th>\n",
       "    </tr>\n",
       "  </thead>\n",
       "  <tbody>\n",
       "    <tr>\n",
       "      <th>0</th>\n",
       "      <td>14733363</td>\n",
       "      <td>male</td>\n",
       "      <td>68</td>\n",
       "      <td>190.0</td>\n",
       "      <td>94.0</td>\n",
       "      <td>29.0</td>\n",
       "      <td>105.0</td>\n",
       "      <td>40.8</td>\n",
       "    </tr>\n",
       "    <tr>\n",
       "      <th>1</th>\n",
       "      <td>14861698</td>\n",
       "      <td>female</td>\n",
       "      <td>20</td>\n",
       "      <td>166.0</td>\n",
       "      <td>60.0</td>\n",
       "      <td>14.0</td>\n",
       "      <td>94.0</td>\n",
       "      <td>40.3</td>\n",
       "    </tr>\n",
       "    <tr>\n",
       "      <th>2</th>\n",
       "      <td>11179863</td>\n",
       "      <td>male</td>\n",
       "      <td>69</td>\n",
       "      <td>179.0</td>\n",
       "      <td>79.0</td>\n",
       "      <td>5.0</td>\n",
       "      <td>88.0</td>\n",
       "      <td>38.7</td>\n",
       "    </tr>\n",
       "  </tbody>\n",
       "</table>\n",
       "</div>"
      ],
      "text/plain": [
       "    User_ID  Gender  Age  Height  Weight  Duration  Heart_Rate  Body_Temp\n",
       "0  14733363    male   68   190.0    94.0      29.0       105.0       40.8\n",
       "1  14861698  female   20   166.0    60.0      14.0        94.0       40.3\n",
       "2  11179863    male   69   179.0    79.0       5.0        88.0       38.7"
      ]
     },
     "execution_count": 6,
     "metadata": {},
     "output_type": "execute_result"
    }
   ],
   "source": [
    "# print first 3 rows of dataset \n",
    "df.head(3)"
   ]
  },
  {
   "cell_type": "code",
   "execution_count": 12,
   "id": "fec770d4-c67d-4d9c-a12a-948802b63840",
   "metadata": {},
   "outputs": [],
   "source": [
    "# It looks like this dataset does not have calories (target) column.\n",
    "# Therefore, we have to merge the two datasets. \n",
    "target_data = pd.read_csv('calories.csv')\n",
    "df = pd.merge(df,target_data, on='User_ID')"
   ]
  },
  {
   "cell_type": "code",
   "execution_count": 14,
   "id": "e065022e-96a7-46e6-a299-3b49c8f27945",
   "metadata": {},
   "outputs": [
    {
     "data": {
      "text/html": [
       "<div>\n",
       "<style scoped>\n",
       "    .dataframe tbody tr th:only-of-type {\n",
       "        vertical-align: middle;\n",
       "    }\n",
       "\n",
       "    .dataframe tbody tr th {\n",
       "        vertical-align: top;\n",
       "    }\n",
       "\n",
       "    .dataframe thead th {\n",
       "        text-align: right;\n",
       "    }\n",
       "</style>\n",
       "<table border=\"1\" class=\"dataframe\">\n",
       "  <thead>\n",
       "    <tr style=\"text-align: right;\">\n",
       "      <th></th>\n",
       "      <th>User_ID</th>\n",
       "      <th>Gender</th>\n",
       "      <th>Age</th>\n",
       "      <th>Height</th>\n",
       "      <th>Weight</th>\n",
       "      <th>Duration</th>\n",
       "      <th>Heart_Rate</th>\n",
       "      <th>Body_Temp</th>\n",
       "      <th>Calories</th>\n",
       "    </tr>\n",
       "  </thead>\n",
       "  <tbody>\n",
       "    <tr>\n",
       "      <th>0</th>\n",
       "      <td>14733363</td>\n",
       "      <td>male</td>\n",
       "      <td>68</td>\n",
       "      <td>190.0</td>\n",
       "      <td>94.0</td>\n",
       "      <td>29.0</td>\n",
       "      <td>105.0</td>\n",
       "      <td>40.8</td>\n",
       "      <td>231.0</td>\n",
       "    </tr>\n",
       "    <tr>\n",
       "      <th>1</th>\n",
       "      <td>14861698</td>\n",
       "      <td>female</td>\n",
       "      <td>20</td>\n",
       "      <td>166.0</td>\n",
       "      <td>60.0</td>\n",
       "      <td>14.0</td>\n",
       "      <td>94.0</td>\n",
       "      <td>40.3</td>\n",
       "      <td>66.0</td>\n",
       "    </tr>\n",
       "    <tr>\n",
       "      <th>2</th>\n",
       "      <td>11179863</td>\n",
       "      <td>male</td>\n",
       "      <td>69</td>\n",
       "      <td>179.0</td>\n",
       "      <td>79.0</td>\n",
       "      <td>5.0</td>\n",
       "      <td>88.0</td>\n",
       "      <td>38.7</td>\n",
       "      <td>26.0</td>\n",
       "    </tr>\n",
       "  </tbody>\n",
       "</table>\n",
       "</div>"
      ],
      "text/plain": [
       "    User_ID  Gender  Age  Height  Weight  Duration  Heart_Rate  Body_Temp  \\\n",
       "0  14733363    male   68   190.0    94.0      29.0       105.0       40.8   \n",
       "1  14861698  female   20   166.0    60.0      14.0        94.0       40.3   \n",
       "2  11179863    male   69   179.0    79.0       5.0        88.0       38.7   \n",
       "\n",
       "   Calories  \n",
       "0     231.0  \n",
       "1      66.0  \n",
       "2      26.0  "
      ]
     },
     "execution_count": 14,
     "metadata": {},
     "output_type": "execute_result"
    }
   ],
   "source": [
    "# Print first 3 rows of dataset \n",
    "df.head(3)"
   ]
  },
  {
   "cell_type": "code",
   "execution_count": 18,
   "id": "ce7fb782-0375-4441-a7c9-d91730b053d1",
   "metadata": {},
   "outputs": [
    {
     "name": "stdout",
     "output_type": "stream",
     "text": [
      "Rows : 15000, Columns : 9\n",
      "Column Names : Index(['User_ID', 'Gender', 'Age', 'Height', 'Weight', 'Duration',\n",
      "       'Heart_Rate', 'Body_Temp', 'Calories'],\n",
      "      dtype='object')\n",
      "<class 'pandas.core.frame.DataFrame'>\n",
      "RangeIndex: 15000 entries, 0 to 14999\n",
      "Data columns (total 9 columns):\n",
      " #   Column      Non-Null Count  Dtype  \n",
      "---  ------      --------------  -----  \n",
      " 0   User_ID     15000 non-null  int64  \n",
      " 1   Gender      15000 non-null  object \n",
      " 2   Age         15000 non-null  int64  \n",
      " 3   Height      15000 non-null  float64\n",
      " 4   Weight      15000 non-null  float64\n",
      " 5   Duration    15000 non-null  float64\n",
      " 6   Heart_Rate  15000 non-null  float64\n",
      " 7   Body_Temp   15000 non-null  float64\n",
      " 8   Calories    15000 non-null  float64\n",
      "dtypes: float64(6), int64(2), object(1)\n",
      "memory usage: 1.0+ MB\n",
      "None\n",
      "            User_ID           Age        Height        Weight      Duration  \\\n",
      "count  1.500000e+04  15000.000000  15000.000000  15000.000000  15000.000000   \n",
      "mean   1.497736e+07     42.789800    174.465133     74.966867     15.530600   \n",
      "std    2.872851e+06     16.980264     14.258114     15.035657      8.319203   \n",
      "min    1.000116e+07     20.000000    123.000000     36.000000      1.000000   \n",
      "25%    1.247419e+07     28.000000    164.000000     63.000000      8.000000   \n",
      "50%    1.499728e+07     39.000000    175.000000     74.000000     16.000000   \n",
      "75%    1.744928e+07     56.000000    185.000000     87.000000     23.000000   \n",
      "max    1.999965e+07     79.000000    222.000000    132.000000     30.000000   \n",
      "\n",
      "         Heart_Rate     Body_Temp      Calories  \n",
      "count  15000.000000  15000.000000  15000.000000  \n",
      "mean      95.518533     40.025453     89.539533  \n",
      "std        9.583328      0.779230     62.456978  \n",
      "min       67.000000     37.100000      1.000000  \n",
      "25%       88.000000     39.600000     35.000000  \n",
      "50%       96.000000     40.200000     79.000000  \n",
      "75%      103.000000     40.600000    138.000000  \n",
      "max      128.000000     41.500000    314.000000  \n",
      "Number of Null values : User_ID       0\n",
      "Gender        0\n",
      "Age           0\n",
      "Height        0\n",
      "Weight        0\n",
      "Duration      0\n",
      "Heart_Rate    0\n",
      "Body_Temp     0\n",
      "Calories      0\n",
      "dtype: int64\n",
      "Number of Duplicates : 0\n"
     ]
    }
   ],
   "source": [
    "# ---------- Let's have a basic understanding of this dataset ------- \n",
    "print(f\"Rows : {df.shape[0]}, Columns : {df.shape[1]}\")\n",
    "print(f\"Column Names : {df.columns}\")\n",
    "print(df.info())\n",
    "print(df.describe())\n",
    "print(f\"Number of Null values : {df.isnull().sum()}\")\n",
    "print(f\"Number of Duplicates : {df.duplicated().sum()}\")"
   ]
  },
  {
   "cell_type": "raw",
   "id": "051ad6b5-da9a-43a2-aabf-92ed6bee442e",
   "metadata": {},
   "source": [
    "# Insights or Main Points : \n",
    "1. There are no duplicates and no null values. \n",
    "2. In this dataset, total 9 columns are there. Out of which \n",
    "    6 are float, 1 object, 2 are int\n",
    "3.From Descriptive Statistics : \n",
    "Min age = 20, Max age = 79, just like this we can see all columns min and max. "
   ]
  },
  {
   "cell_type": "code",
   "execution_count": 26,
   "id": "2f9a1d6e-8807-4709-a02b-ff544b8d0215",
   "metadata": {},
   "outputs": [],
   "source": [
    "# Encoding of Gender column : \n",
    "df = pd.get_dummies(data=df, columns=['Gender'], drop_first=True, dtype=int)"
   ]
  },
  {
   "cell_type": "code",
   "execution_count": 46,
   "id": "4c06dad2-fc67-4483-bea8-eab2835a331d",
   "metadata": {},
   "outputs": [
    {
     "data": {
      "text/plain": [
       "<Axes: xlabel='Gender_male', ylabel='count'>"
      ]
     },
     "execution_count": 46,
     "metadata": {},
     "output_type": "execute_result"
    },
    {
     "data": {
      "image/png": "[encoded data removed]",
      "text/plain": [
       "<Figure size 640x480 with 1 Axes>"
      ]
     },
     "metadata": {},
     "output_type": "display_data"
    }
   ],
   "source": [
    "# Uni-variate Analysis : \n",
    "#['User_ID', 'Age', 'Height', 'Weight', 'Duration', 'Heart_Rate',\n",
    "#      'Body_Temp', 'Calories', 'Gender_male']\n",
    "\n",
    "# 1. 'Gender_male' : \n",
    "sns.countplot(data=df, x='Gender_male')"
   ]
  },
  {
   "cell_type": "code",
   "execution_count": 48,
   "id": "bb98f293-452d-4c13-a719-6ae2a05b5b74",
   "metadata": {},
   "outputs": [
    {
     "data": {
      "text/plain": [
       "Gender_male\n",
       "0    7553\n",
       "1    7447\n",
       "Name: count, dtype: int64"
      ]
     },
     "execution_count": 48,
     "metadata": {},
     "output_type": "execute_result"
    }
   ],
   "source": [
    "df['Gender_male'].value_counts()"
   ]
  },
  {
   "cell_type": "code",
   "execution_count": 56,
   "id": "3d216fa7-4579-42bf-a92c-e1fd85df0d62",
   "metadata": {},
   "outputs": [
    {
     "name": "stderr",
     "output_type": "stream",
     "text": [
      "C:\\Users\\SAMSUNG\\anaconda3\\Lib\\site-packages\\seaborn\\_oldcore.py:1119: FutureWarning: use_inf_as_na option is deprecated and will be removed in a future version. Convert inf values to NaN before operating instead.\n",
      "  with pd.option_context('mode.use_inf_as_na', True):\n"
     ]
    },
    {
     "data": {
      "text/plain": [
       "<Axes: xlabel='Age', ylabel='Count'>"
      ]
     },
     "execution_count": 56,
     "metadata": {},
     "output_type": "execute_result"
    },
    {
     "data": {
      "image/png": "[encoded data removed]",
      "text/plain": [
       "<Figure size 640x480 with 1 Axes>"
      ]
     },
     "metadata": {},
     "output_type": "display_data"
    }
   ],
   "source": [
    "# 2 : 'Age' : \n",
    "sns.histplot(data=df, x='Age', bins=20)"
   ]
  },
  {
   "cell_type": "code",
   "execution_count": 64,
   "id": "7fa76b43-f3f6-4902-9ecd-42406a15affd",
   "metadata": {},
   "outputs": [],
   "source": [
    "# This feature is not giving much information. \n",
    "# Let's do feature construction from this. \n",
    "# Min age = 20 \n",
    "# Max age = 79 \n",
    "# Let's change age column to different age groups. \n",
    "# 20, 40 -> Young,  40, 60 -> Middle-aged,  senior-citizen - 60,80 \n",
    "# Instead directly lets convert it to discrete values. \n",
    "# If age is in between 0-18 -> 0, 19-30 ->1, 30-50 -> 2, 50 - 100 -> 3 \n",
    "age_groups = [0,1,2,3]\n",
    "df['age_group'] = pd.cut(df['Age'], bins=[0,18,30,50,100], right=False, labels=age_groups)"
   ]
  },
  {
   "cell_type": "code",
   "execution_count": 68,
   "id": "0e0db123-65a5-48a2-9bc6-9687a5f4f14d",
   "metadata": {},
   "outputs": [
    {
     "name": "stderr",
     "output_type": "stream",
     "text": [
      "C:\\Users\\SAMSUNG\\anaconda3\\Lib\\site-packages\\seaborn\\categorical.py:641: FutureWarning: The default of observed=False is deprecated and will be changed to True in a future version of pandas. Pass observed=False to retain current behavior or observed=True to adopt the future default and silence this warning.\n",
      "  grouped_vals = vals.groupby(grouper)\n"
     ]
    },
    {
     "data": {
      "text/plain": [
       "<Axes: xlabel='age_group', ylabel='count'>"
      ]
     },
     "execution_count": 68,
     "metadata": {},
     "output_type": "execute_result"
    },
    {
     "data": {
      "image/png": "[encoded data removed]",
      "text/plain": [
       "<Figure size 640x480 with 1 Axes>"
      ]
     },
     "metadata": {},
     "output_type": "display_data"
    }
   ],
   "source": [
    "# Plot age group :\n",
    "sns.countplot(data=df, x='age_group')"
   ]
  },
  {
   "cell_type": "code",
   "execution_count": 72,
   "id": "2b179c7d-7f33-4492-9147-d2db861900fd",
   "metadata": {},
   "outputs": [],
   "source": [
    "# Let us extract a new feature from 'Height', 'Weight' as they are highly correlated. \n",
    "df['bmi'] = round(df['Weight'] / ((df['Height']/100) **2),2)"
   ]
  },
  {
   "cell_type": "code",
   "execution_count": 74,
   "id": "356b4ff8-95e7-4aac-9393-29aab949d1b1",
   "metadata": {},
   "outputs": [
    {
     "data": {
      "text/html": [
       "<div>\n",
       "<style scoped>\n",
       "    .dataframe tbody tr th:only-of-type {\n",
       "        vertical-align: middle;\n",
       "    }\n",
       "\n",
       "    .dataframe tbody tr th {\n",
       "        vertical-align: top;\n",
       "    }\n",
       "\n",
       "    .dataframe thead th {\n",
       "        text-align: right;\n",
       "    }\n",
       "</style>\n",
       "<table border=\"1\" class=\"dataframe\">\n",
       "  <thead>\n",
       "    <tr style=\"text-align: right;\">\n",
       "      <th></th>\n",
       "      <th>User_ID</th>\n",
       "      <th>Age</th>\n",
       "      <th>Height</th>\n",
       "      <th>Weight</th>\n",
       "      <th>Duration</th>\n",
       "      <th>Heart_Rate</th>\n",
       "      <th>Body_Temp</th>\n",
       "      <th>Calories</th>\n",
       "      <th>Gender_male</th>\n",
       "      <th>age_group</th>\n",
       "      <th>bmi</th>\n",
       "    </tr>\n",
       "  </thead>\n",
       "  <tbody>\n",
       "    <tr>\n",
       "      <th>0</th>\n",
       "      <td>14733363</td>\n",
       "      <td>68</td>\n",
       "      <td>190.0</td>\n",
       "      <td>94.0</td>\n",
       "      <td>29.0</td>\n",
       "      <td>105.0</td>\n",
       "      <td>40.8</td>\n",
       "      <td>231.0</td>\n",
       "      <td>1</td>\n",
       "      <td>3</td>\n",
       "      <td>26.04</td>\n",
       "    </tr>\n",
       "    <tr>\n",
       "      <th>1</th>\n",
       "      <td>14861698</td>\n",
       "      <td>20</td>\n",
       "      <td>166.0</td>\n",
       "      <td>60.0</td>\n",
       "      <td>14.0</td>\n",
       "      <td>94.0</td>\n",
       "      <td>40.3</td>\n",
       "      <td>66.0</td>\n",
       "      <td>0</td>\n",
       "      <td>1</td>\n",
       "      <td>21.77</td>\n",
       "    </tr>\n",
       "    <tr>\n",
       "      <th>2</th>\n",
       "      <td>11179863</td>\n",
       "      <td>69</td>\n",
       "      <td>179.0</td>\n",
       "      <td>79.0</td>\n",
       "      <td>5.0</td>\n",
       "      <td>88.0</td>\n",
       "      <td>38.7</td>\n",
       "      <td>26.0</td>\n",
       "      <td>1</td>\n",
       "      <td>3</td>\n",
       "      <td>24.66</td>\n",
       "    </tr>\n",
       "    <tr>\n",
       "      <th>3</th>\n",
       "      <td>16180408</td>\n",
       "      <td>34</td>\n",
       "      <td>179.0</td>\n",
       "      <td>71.0</td>\n",
       "      <td>13.0</td>\n",
       "      <td>100.0</td>\n",
       "      <td>40.5</td>\n",
       "      <td>71.0</td>\n",
       "      <td>0</td>\n",
       "      <td>2</td>\n",
       "      <td>22.16</td>\n",
       "    </tr>\n",
       "    <tr>\n",
       "      <th>4</th>\n",
       "      <td>17771927</td>\n",
       "      <td>27</td>\n",
       "      <td>154.0</td>\n",
       "      <td>58.0</td>\n",
       "      <td>10.0</td>\n",
       "      <td>81.0</td>\n",
       "      <td>39.8</td>\n",
       "      <td>35.0</td>\n",
       "      <td>0</td>\n",
       "      <td>1</td>\n",
       "      <td>24.46</td>\n",
       "    </tr>\n",
       "    <tr>\n",
       "      <th>...</th>\n",
       "      <td>...</td>\n",
       "      <td>...</td>\n",
       "      <td>...</td>\n",
       "      <td>...</td>\n",
       "      <td>...</td>\n",
       "      <td>...</td>\n",
       "      <td>...</td>\n",
       "      <td>...</td>\n",
       "      <td>...</td>\n",
       "      <td>...</td>\n",
       "      <td>...</td>\n",
       "    </tr>\n",
       "    <tr>\n",
       "      <th>14995</th>\n",
       "      <td>15644082</td>\n",
       "      <td>20</td>\n",
       "      <td>193.0</td>\n",
       "      <td>86.0</td>\n",
       "      <td>11.0</td>\n",
       "      <td>92.0</td>\n",
       "      <td>40.4</td>\n",
       "      <td>45.0</td>\n",
       "      <td>0</td>\n",
       "      <td>1</td>\n",
       "      <td>23.09</td>\n",
       "    </tr>\n",
       "    <tr>\n",
       "      <th>14996</th>\n",
       "      <td>17212577</td>\n",
       "      <td>27</td>\n",
       "      <td>165.0</td>\n",
       "      <td>65.0</td>\n",
       "      <td>6.0</td>\n",
       "      <td>85.0</td>\n",
       "      <td>39.2</td>\n",
       "      <td>23.0</td>\n",
       "      <td>0</td>\n",
       "      <td>1</td>\n",
       "      <td>23.88</td>\n",
       "    </tr>\n",
       "    <tr>\n",
       "      <th>14997</th>\n",
       "      <td>17271188</td>\n",
       "      <td>43</td>\n",
       "      <td>159.0</td>\n",
       "      <td>58.0</td>\n",
       "      <td>16.0</td>\n",
       "      <td>90.0</td>\n",
       "      <td>40.1</td>\n",
       "      <td>75.0</td>\n",
       "      <td>0</td>\n",
       "      <td>2</td>\n",
       "      <td>22.94</td>\n",
       "    </tr>\n",
       "    <tr>\n",
       "      <th>14998</th>\n",
       "      <td>18643037</td>\n",
       "      <td>78</td>\n",
       "      <td>193.0</td>\n",
       "      <td>97.0</td>\n",
       "      <td>2.0</td>\n",
       "      <td>84.0</td>\n",
       "      <td>38.3</td>\n",
       "      <td>11.0</td>\n",
       "      <td>1</td>\n",
       "      <td>3</td>\n",
       "      <td>26.04</td>\n",
       "    </tr>\n",
       "    <tr>\n",
       "      <th>14999</th>\n",
       "      <td>11751526</td>\n",
       "      <td>63</td>\n",
       "      <td>173.0</td>\n",
       "      <td>79.0</td>\n",
       "      <td>18.0</td>\n",
       "      <td>92.0</td>\n",
       "      <td>40.5</td>\n",
       "      <td>98.0</td>\n",
       "      <td>1</td>\n",
       "      <td>3</td>\n",
       "      <td>26.40</td>\n",
       "    </tr>\n",
       "  </tbody>\n",
       "</table>\n",
       "<p>15000 rows × 11 columns</p>\n",
       "</div>"
      ],
      "text/plain": [
       "        User_ID  Age  Height  Weight  Duration  Heart_Rate  Body_Temp  \\\n",
       "0      14733363   68   190.0    94.0      29.0       105.0       40.8   \n",
       "1      14861698   20   166.0    60.0      14.0        94.0       40.3   \n",
       "2      11179863   69   179.0    79.0       5.0        88.0       38.7   \n",
       "3      16180408   34   179.0    71.0      13.0       100.0       40.5   \n",
       "4      17771927   27   154.0    58.0      10.0        81.0       39.8   \n",
       "...         ...  ...     ...     ...       ...         ...        ...   \n",
       "14995  15644082   20   193.0    86.0      11.0        92.0       40.4   \n",
       "14996  17212577   27   165.0    65.0       6.0        85.0       39.2   \n",
       "14997  17271188   43   159.0    58.0      16.0        90.0       40.1   \n",
       "14998  18643037   78   193.0    97.0       2.0        84.0       38.3   \n",
       "14999  11751526   63   173.0    79.0      18.0        92.0       40.5   \n",
       "\n",
       "       Calories  Gender_male age_group    bmi  \n",
       "0         231.0            1         3  26.04  \n",
       "1          66.0            0         1  21.77  \n",
       "2          26.0            1         3  24.66  \n",
       "3          71.0            0         2  22.16  \n",
       "4          35.0            0         1  24.46  \n",
       "...         ...          ...       ...    ...  \n",
       "14995      45.0            0         1  23.09  \n",
       "14996      23.0            0         1  23.88  \n",
       "14997      75.0            0         2  22.94  \n",
       "14998      11.0            1         3  26.04  \n",
       "14999      98.0            1         3  26.40  \n",
       "\n",
       "[15000 rows x 11 columns]"
      ]
     },
     "execution_count": 74,
     "metadata": {},
     "output_type": "execute_result"
    }
   ],
   "source": [
    "df"
   ]
  },
  {
   "cell_type": "code",
   "execution_count": 84,
   "id": "9dfa3ff0-59d7-4630-92f8-4698bde150f8",
   "metadata": {},
   "outputs": [],
   "source": [
    "# Let's try to find some coorelations \n",
    "corr = df.corr()"
   ]
  },
  {
   "cell_type": "code",
   "execution_count": 97,
   "id": "8e34d38f-29df-4e02-ae65-067e978dfb12",
   "metadata": {},
   "outputs": [
    {
     "data": {
      "text/plain": [
       "<Axes: >"
      ]
     },
     "execution_count": 97,
     "metadata": {},
     "output_type": "execute_result"
    },
    {
     "data": {
      "image/png": "[encoded data removed]",
      "text/plain": [
       "<Figure size 640x480 with 2 Axes>"
      ]
     },
     "metadata": {},
     "output_type": "display_data"
    }
   ],
   "source": [
    "sns.heatmap(corr)"
   ]
  },
  {
   "cell_type": "raw",
   "id": "3ea9911e-b479-4e03-9dc7-fc88675cef8f",
   "metadata": {},
   "source": [
    "# From the heatmap, we can state that : Many features have high correlation with other features\n",
    "# Such as height and weight. \n",
    "# 'age' and 'age_group'\n",
    "# Therfore, we have to drop all these irrelevant columns or instead of dropping them,\n",
    "# let's seperate them at the time of splitting. "
   ]
  },
  {
   "cell_type": "code",
   "execution_count": 101,
   "id": "1efe1942-bcba-49c4-8229-8145097eb8d6",
   "metadata": {},
   "outputs": [],
   "source": [
    "# Split in X and Y : \n",
    "X = df.drop(columns=['User_ID', 'Age','Height', 'Weight', 'Calories' ])\n",
    "y = df['Calories']"
   ]
  },
  {
   "cell_type": "code",
   "execution_count": 103,
   "id": "45767d5a-5530-4a50-a793-c3440cd25a48",
   "metadata": {},
   "outputs": [
    {
     "data": {
      "text/html": [
       "<div>\n",
       "<style scoped>\n",
       "    .dataframe tbody tr th:only-of-type {\n",
       "        vertical-align: middle;\n",
       "    }\n",
       "\n",
       "    .dataframe tbody tr th {\n",
       "        vertical-align: top;\n",
       "    }\n",
       "\n",
       "    .dataframe thead th {\n",
       "        text-align: right;\n",
       "    }\n",
       "</style>\n",
       "<table border=\"1\" class=\"dataframe\">\n",
       "  <thead>\n",
       "    <tr style=\"text-align: right;\">\n",
       "      <th></th>\n",
       "      <th>Duration</th>\n",
       "      <th>Heart_Rate</th>\n",
       "      <th>Body_Temp</th>\n",
       "      <th>Gender_male</th>\n",
       "      <th>age_group</th>\n",
       "      <th>bmi</th>\n",
       "    </tr>\n",
       "  </thead>\n",
       "  <tbody>\n",
       "    <tr>\n",
       "      <th>0</th>\n",
       "      <td>29.0</td>\n",
       "      <td>105.0</td>\n",
       "      <td>40.8</td>\n",
       "      <td>1</td>\n",
       "      <td>3</td>\n",
       "      <td>26.04</td>\n",
       "    </tr>\n",
       "    <tr>\n",
       "      <th>1</th>\n",
       "      <td>14.0</td>\n",
       "      <td>94.0</td>\n",
       "      <td>40.3</td>\n",
       "      <td>0</td>\n",
       "      <td>1</td>\n",
       "      <td>21.77</td>\n",
       "    </tr>\n",
       "    <tr>\n",
       "      <th>2</th>\n",
       "      <td>5.0</td>\n",
       "      <td>88.0</td>\n",
       "      <td>38.7</td>\n",
       "      <td>1</td>\n",
       "      <td>3</td>\n",
       "      <td>24.66</td>\n",
       "    </tr>\n",
       "    <tr>\n",
       "      <th>3</th>\n",
       "      <td>13.0</td>\n",
       "      <td>100.0</td>\n",
       "      <td>40.5</td>\n",
       "      <td>0</td>\n",
       "      <td>2</td>\n",
       "      <td>22.16</td>\n",
       "    </tr>\n",
       "    <tr>\n",
       "      <th>4</th>\n",
       "      <td>10.0</td>\n",
       "      <td>81.0</td>\n",
       "      <td>39.8</td>\n",
       "      <td>0</td>\n",
       "      <td>1</td>\n",
       "      <td>24.46</td>\n",
       "    </tr>\n",
       "    <tr>\n",
       "      <th>...</th>\n",
       "      <td>...</td>\n",
       "      <td>...</td>\n",
       "      <td>...</td>\n",
       "      <td>...</td>\n",
       "      <td>...</td>\n",
       "      <td>...</td>\n",
       "    </tr>\n",
       "    <tr>\n",
       "      <th>14995</th>\n",
       "      <td>11.0</td>\n",
       "      <td>92.0</td>\n",
       "      <td>40.4</td>\n",
       "      <td>0</td>\n",
       "      <td>1</td>\n",
       "      <td>23.09</td>\n",
       "    </tr>\n",
       "    <tr>\n",
       "      <th>14996</th>\n",
       "      <td>6.0</td>\n",
       "      <td>85.0</td>\n",
       "      <td>39.2</td>\n",
       "      <td>0</td>\n",
       "      <td>1</td>\n",
       "      <td>23.88</td>\n",
       "    </tr>\n",
       "    <tr>\n",
       "      <th>14997</th>\n",
       "      <td>16.0</td>\n",
       "      <td>90.0</td>\n",
       "      <td>40.1</td>\n",
       "      <td>0</td>\n",
       "      <td>2</td>\n",
       "      <td>22.94</td>\n",
       "    </tr>\n",
       "    <tr>\n",
       "      <th>14998</th>\n",
       "      <td>2.0</td>\n",
       "      <td>84.0</td>\n",
       "      <td>38.3</td>\n",
       "      <td>1</td>\n",
       "      <td>3</td>\n",
       "      <td>26.04</td>\n",
       "    </tr>\n",
       "    <tr>\n",
       "      <th>14999</th>\n",
       "      <td>18.0</td>\n",
       "      <td>92.0</td>\n",
       "      <td>40.5</td>\n",
       "      <td>1</td>\n",
       "      <td>3</td>\n",
       "      <td>26.40</td>\n",
       "    </tr>\n",
       "  </tbody>\n",
       "</table>\n",
       "<p>15000 rows × 6 columns</p>\n",
       "</div>"
      ],
      "text/plain": [
       "       Duration  Heart_Rate  Body_Temp  Gender_male age_group    bmi\n",
       "0          29.0       105.0       40.8            1         3  26.04\n",
       "1          14.0        94.0       40.3            0         1  21.77\n",
       "2           5.0        88.0       38.7            1         3  24.66\n",
       "3          13.0       100.0       40.5            0         2  22.16\n",
       "4          10.0        81.0       39.8            0         1  24.46\n",
       "...         ...         ...        ...          ...       ...    ...\n",
       "14995      11.0        92.0       40.4            0         1  23.09\n",
       "14996       6.0        85.0       39.2            0         1  23.88\n",
       "14997      16.0        90.0       40.1            0         2  22.94\n",
       "14998       2.0        84.0       38.3            1         3  26.04\n",
       "14999      18.0        92.0       40.5            1         3  26.40\n",
       "\n",
       "[15000 rows x 6 columns]"
      ]
     },
     "execution_count": 103,
     "metadata": {},
     "output_type": "execute_result"
    }
   ],
   "source": [
    "X"
   ]
  },
  {
   "cell_type": "code",
   "execution_count": 107,
   "id": "6407c8e8-3dbc-4d9c-879f-b2aff7ae4647",
   "metadata": {},
   "outputs": [],
   "source": [
    "# Train and testing data splitting : \n",
    "from sklearn.model_selection import train_test_split \n",
    "X_train, X_test, y_train, y_test = train_test_split(X,y, test_size=0.2, random_state=42)"
   ]
  },
  {
   "cell_type": "code",
   "execution_count": 109,
   "id": "31c4b801-2f52-451e-9462-4b08481a10e1",
   "metadata": {},
   "outputs": [
    {
     "name": "stdout",
     "output_type": "stream",
     "text": [
      "8.661809075962157\n",
      "143.56976334363753\n",
      "0.9644258718147396\n"
     ]
    }
   ],
   "source": [
    "# Training the model. \n",
    "from sklearn.linear_model import LinearRegression \n",
    "from sklearn.metrics import mean_absolute_error, mean_squared_error, r2_score\n",
    "lr = LinearRegression()\n",
    "lr.fit(X_train, y_train)\n",
    "pred = lr.predict(X_test)\n",
    "mae = mean_absolute_error(y_test, pred)\n",
    "mse = mean_squared_error(y_test, pred)\n",
    "r2 = r2_score(y_test, pred)\n",
    "print(mae)\n",
    "print(mse) \n",
    "print(r2)"
   ]
  },
  {
   "cell_type": "code",
   "execution_count": 111,
   "id": "eacaf87f-f0b3-4148-9ad7-2fe2aa81f36f",
   "metadata": {},
   "outputs": [
    {
     "name": "stdout",
     "output_type": "stream",
     "text": [
      "4.920166666666667\n",
      "59.44325\n",
      "0.985270980838862\n"
     ]
    }
   ],
   "source": [
    "# Trying decision tree Algorithm : \n",
    "from sklearn.tree import DecisionTreeRegressor\n",
    "dtr = DecisionTreeRegressor()\n",
    "dtr.fit(X_train, y_train)\n",
    "pred = dtr.predict(X_test)\n",
    "mae = mean_absolute_error(y_test, pred)\n",
    "mse = mean_squared_error(y_test, pred)\n",
    "r2 = r2_score(y_test, pred)\n",
    "print(mae)\n",
    "print(mse) \n",
    "print(r2)"
   ]
  },
  {
   "cell_type": "code",
   "execution_count": 113,
   "id": "bed0c4b8-e6d8-45d4-9822-d1aba6faeff0",
   "metadata": {},
   "outputs": [
    {
     "name": "stdout",
     "output_type": "stream",
     "text": [
      "4.861833333333333\n",
      "57.75475\n",
      "0.9856893622169594\n"
     ]
    }
   ],
   "source": [
    "# Trying with Random Forest : \n",
    "from sklearn.ensemble import RandomForestRegressor\n",
    "rf = DecisionTreeRegressor()\n",
    "rf.fit(X_train, y_train)\n",
    "pred = rf.predict(X_test)\n",
    "mae = mean_absolute_error(y_test, pred)\n",
    "mse = mean_squared_error(y_test, pred)\n",
    "r2 = r2_score(y_test, pred)\n",
    "print(mae)\n",
    "print(mse) \n",
    "print(r2)"
   ]
  },
  {
   "cell_type": "code",
   "execution_count": null,
   "id": "49c5902e-3f11-42c1-bffc-f64b13809c90",
   "metadata": {},
   "outputs": [],
   "source": []
  }
 ],
 "metadata": {
  "kernelspec": {
   "display_name": "Python 3 (ipykernel)",
   "language": "python",
   "name": "python3"
  },
  "language_info": {
   "codemirror_mode": {
    "name": "ipython",
    "version": 3
   },
   "file_extension": ".py",
   "mimetype": "text/x-python",
   "name": "python",
   "nbconvert_exporter": "python",
   "pygments_lexer": "ipython3",
   "version": "3.11.7"
  }
 },
 "nbformat": 4,
 "nbformat_minor": 5
}
